{
  "nbformat": 4,
  "nbformat_minor": 0,
  "metadata": {
    "colab": {
      "provenance": [],
      "authorship_tag": "ABX9TyPbEJK1aXC8JLJx61alwjp0",
      "include_colab_link": true
    },
    "kernelspec": {
      "name": "python3",
      "display_name": "Python 3"
    },
    "language_info": {
      "name": "python"
    }
  },
  "cells": [
    {
      "cell_type": "markdown",
      "metadata": {
        "id": "view-in-github",
        "colab_type": "text"
      },
      "source": [
        "<a href=\"https://colab.research.google.com/github/Divyam-Deep/Deep-Learning-on-MNIST-dataset/blob/main/MNIST.ipynb\" target=\"_parent\"><img src=\"https://colab.research.google.com/assets/colab-badge.svg\" alt=\"Open In Colab\"/></a>"
      ]
    },
    {
      "cell_type": "code",
      "execution_count": 45,
      "metadata": {
        "id": "XiTgm-bWU0-7"
      },
      "outputs": [],
      "source": [
        "# my action plan\n",
        "# 1- prepare data and process it ( train,test validation)\n",
        "# 2- outline the model and choose the activation function\n",
        "# 3- set advanced optimizer and loss function\n",
        "# 4- make it learn\n",
        "# 5- Test the acc of our model"
      ]
    },
    {
      "cell_type": "code",
      "source": [
        "import numpy as np\n",
        "import tensorflow as tf\n",
        "import tensorflow_datasets as tfds"
      ],
      "metadata": {
        "id": "0Ts7JBUocPdE"
      },
      "execution_count": 46,
      "outputs": []
    },
    {
      "cell_type": "code",
      "source": [
        "mnist_dataset, mnist_info = tfds.load(name='mnist', with_info = True , as_supervised=True) #as_supervised is used to split data into train and test"
      ],
      "metadata": {
        "id": "LfBbjC7MccnZ"
      },
      "execution_count": 47,
      "outputs": []
    },
    {
      "cell_type": "code",
      "source": [
        "mnist_train, mnist_test = mnist_dataset['train'], mnist_dataset['test']\n",
        "num_validation_samples = 0.1 * mnist_info.splits['train'].num_examples  #making the validation set using 10% of train data\n",
        "num_validation_samples = tf.cast(num_validation_samples, tf.int64)   #tf.cast() is used to convert the data type to int\n",
        "num_test_samples = mnist_info.splits['test'].num_examples\n",
        "num_test_samples = tf.cast(num_test_samples, tf.int64)\n",
        "\n",
        "\n",
        "def scale(image, label):   #scaling the data\n",
        "    image = tf.cast(image, tf.float32)\n",
        "    image /= 255.   #we know that the image will range from 0-255 so to display between 0-1 we devide by 255 and '.' represnt the float value\n",
        "    return image, label\n",
        "\n",
        "scaled_train_and_validation_data = mnist_train.map(scale)\n",
        "test_data = mnist_test.map(scale)\n",
        "\n",
        "#we will suffle the data\n",
        "BUFFER_SIZE = 10000  #it means that first take 10,000 data and suffle it then take another 10,000 data and suffle\n",
        "shuffled_train_and_validation_data = scaled_train_and_validation_data.shuffle(BUFFER_SIZE)\n",
        "validation_data = shuffled_train_and_validation_data.take(num_validation_samples)\n",
        "train_data = shuffled_train_and_validation_data.skip(num_validation_samples)\n",
        "\n",
        "#Now optimizing the data using mini batched gd (batch size = 1 then sgd ; batch size = no. of samples then its gd) we will use between the both\n",
        "BATCH_SIZE = 100\n",
        "train_data = train_data.batch(BATCH_SIZE)\n",
        "validation_data = validation_data.batch(num_validation_samples)\n",
        "test_data = test_data.batch(num_test_samples)\n",
        "\n",
        "validation_inputs, validation_targets = next(iter(validation_data))  #iter() is used to make an oject which can be iterated one element at a time and next() is used to load next element from iteration object\n"
      ],
      "metadata": {
        "id": "UZhTuxhKdGc2"
      },
      "execution_count": 48,
      "outputs": []
    },
    {
      "cell_type": "code",
      "source": [
        "#outline the model\n",
        "input_size = 728\n",
        "output_size = 10\n",
        "hidden_layer_size = 128\n",
        "\n",
        "model = tf.keras.Sequential([                  #sequential is used to laying down the model (stack layers)\n",
        "                            tf.keras.layers.Flatten(input_shape=(28, 28, 1)),\n",
        "\n",
        "                            # Add first dense layer followed by batch normalization and dropout\n",
        "                            tf.keras.layers.Dense(hidden_layer_size, activation='relu'),\n",
        "                            tf.keras.layers.BatchNormalization(),\n",
        "                            tf.keras.layers.Dropout(0.3),  # Dropout rate set to 30% it stop 30% of networks as to overcome overfitting\n",
        "\n",
        "                            # Second dense layer with batch normalization and dropout\n",
        "                            tf.keras.layers.Dense(hidden_layer_size, activation='relu'),\n",
        "                            tf.keras.layers.BatchNormalization(),\n",
        "                            tf.keras.layers.Dropout(0.3),\n",
        "\n",
        "                            # Third dense layer\n",
        "                            tf.keras.layers.Dense(hidden_layer_size, activation='relu'),\n",
        "                            tf.keras.layers.BatchNormalization(),\n",
        "                            tf.keras.layers.Dropout(0.3),\n",
        "\n",
        "                            # Output layer with softmax activation\n",
        "                            tf.keras.layers.Dense(output_size, activation='softmax')\n",
        "\n",
        "\n",
        "                                               ])"
      ],
      "metadata": {
        "id": "pKlkbFvb-NQY"
      },
      "execution_count": 49,
      "outputs": []
    },
    {
      "cell_type": "code",
      "source": [
        "#choose the optimizer and loss function\n",
        "model.compile(optimizer='adam', loss='sparse_categorical_crossentropy', metrics=['accuracy'])"
      ],
      "metadata": {
        "id": "1MR3EejwATTZ"
      },
      "execution_count": 50,
      "outputs": []
    },
    {
      "cell_type": "code",
      "source": [
        "# Use early stopping to prevent overfitting\n",
        "early_stopping = tf.keras.callbacks.EarlyStopping(monitor='val_loss', patience=3, restore_best_weights=True)"
      ],
      "metadata": {
        "id": "hNi9pjpNGMiQ"
      },
      "execution_count": 51,
      "outputs": []
    },
    {
      "cell_type": "code",
      "source": [
        "#training\n",
        "NUM_EPOCHS = 30\n",
        "\n",
        "model.fit(train_data, epochs=NUM_EPOCHS, validation_data=(validation_inputs, validation_targets), verbose=2)\n"
      ],
      "metadata": {
        "colab": {
          "base_uri": "https://localhost:8080/"
        },
        "id": "9NeEsXlABBd-",
        "outputId": "d8220b99-3f6b-4b2f-fa8b-42dcb54fe7fe"
      },
      "execution_count": 52,
      "outputs": [
        {
          "output_type": "stream",
          "name": "stdout",
          "text": [
            "Epoch 1/30\n",
            "540/540 - 14s - 26ms/step - accuracy: 0.8476 - loss: 0.4976 - val_accuracy: 0.9520 - val_loss: 0.1666\n",
            "Epoch 2/30\n",
            "540/540 - 7s - 14ms/step - accuracy: 0.9290 - loss: 0.2384 - val_accuracy: 0.9613 - val_loss: 0.1196\n",
            "Epoch 3/30\n",
            "540/540 - 7s - 14ms/step - accuracy: 0.9449 - loss: 0.1870 - val_accuracy: 0.9650 - val_loss: 0.1093\n",
            "Epoch 4/30\n",
            "540/540 - 11s - 20ms/step - accuracy: 0.9518 - loss: 0.1624 - val_accuracy: 0.9743 - val_loss: 0.0863\n",
            "Epoch 5/30\n",
            "540/540 - 6s - 12ms/step - accuracy: 0.9558 - loss: 0.1497 - val_accuracy: 0.9770 - val_loss: 0.0752\n",
            "Epoch 6/30\n",
            "540/540 - 10s - 19ms/step - accuracy: 0.9599 - loss: 0.1316 - val_accuracy: 0.9758 - val_loss: 0.0773\n",
            "Epoch 7/30\n",
            "540/540 - 12s - 22ms/step - accuracy: 0.9623 - loss: 0.1242 - val_accuracy: 0.9793 - val_loss: 0.0664\n",
            "Epoch 8/30\n",
            "540/540 - 10s - 19ms/step - accuracy: 0.9655 - loss: 0.1116 - val_accuracy: 0.9782 - val_loss: 0.0706\n",
            "Epoch 9/30\n",
            "540/540 - 10s - 19ms/step - accuracy: 0.9671 - loss: 0.1083 - val_accuracy: 0.9825 - val_loss: 0.0592\n",
            "Epoch 10/30\n",
            "540/540 - 6s - 12ms/step - accuracy: 0.9691 - loss: 0.1010 - val_accuracy: 0.9832 - val_loss: 0.0570\n",
            "Epoch 11/30\n",
            "540/540 - 8s - 15ms/step - accuracy: 0.9708 - loss: 0.0956 - val_accuracy: 0.9845 - val_loss: 0.0545\n",
            "Epoch 12/30\n",
            "540/540 - 7s - 13ms/step - accuracy: 0.9704 - loss: 0.0950 - val_accuracy: 0.9867 - val_loss: 0.0463\n",
            "Epoch 13/30\n",
            "540/540 - 9s - 16ms/step - accuracy: 0.9712 - loss: 0.0905 - val_accuracy: 0.9858 - val_loss: 0.0509\n",
            "Epoch 14/30\n",
            "540/540 - 9s - 16ms/step - accuracy: 0.9723 - loss: 0.0900 - val_accuracy: 0.9868 - val_loss: 0.0436\n",
            "Epoch 15/30\n",
            "540/540 - 8s - 14ms/step - accuracy: 0.9732 - loss: 0.0849 - val_accuracy: 0.9883 - val_loss: 0.0408\n",
            "Epoch 16/30\n",
            "540/540 - 8s - 14ms/step - accuracy: 0.9751 - loss: 0.0798 - val_accuracy: 0.9877 - val_loss: 0.0433\n",
            "Epoch 17/30\n",
            "540/540 - 7s - 13ms/step - accuracy: 0.9751 - loss: 0.0775 - val_accuracy: 0.9880 - val_loss: 0.0419\n",
            "Epoch 18/30\n",
            "540/540 - 8s - 15ms/step - accuracy: 0.9764 - loss: 0.0763 - val_accuracy: 0.9890 - val_loss: 0.0386\n",
            "Epoch 19/30\n",
            "540/540 - 7s - 12ms/step - accuracy: 0.9761 - loss: 0.0759 - val_accuracy: 0.9897 - val_loss: 0.0333\n",
            "Epoch 20/30\n",
            "540/540 - 8s - 15ms/step - accuracy: 0.9774 - loss: 0.0711 - val_accuracy: 0.9890 - val_loss: 0.0386\n",
            "Epoch 21/30\n",
            "540/540 - 7s - 12ms/step - accuracy: 0.9781 - loss: 0.0681 - val_accuracy: 0.9908 - val_loss: 0.0329\n",
            "Epoch 22/30\n",
            "540/540 - 8s - 15ms/step - accuracy: 0.9794 - loss: 0.0640 - val_accuracy: 0.9897 - val_loss: 0.0359\n",
            "Epoch 23/30\n",
            "540/540 - 7s - 12ms/step - accuracy: 0.9796 - loss: 0.0662 - val_accuracy: 0.9902 - val_loss: 0.0318\n",
            "Epoch 24/30\n",
            "540/540 - 10s - 19ms/step - accuracy: 0.9804 - loss: 0.0623 - val_accuracy: 0.9900 - val_loss: 0.0339\n",
            "Epoch 25/30\n",
            "540/540 - 9s - 16ms/step - accuracy: 0.9798 - loss: 0.0625 - val_accuracy: 0.9903 - val_loss: 0.0326\n",
            "Epoch 26/30\n",
            "540/540 - 7s - 13ms/step - accuracy: 0.9814 - loss: 0.0598 - val_accuracy: 0.9922 - val_loss: 0.0263\n",
            "Epoch 27/30\n",
            "540/540 - 10s - 19ms/step - accuracy: 0.9802 - loss: 0.0614 - val_accuracy: 0.9912 - val_loss: 0.0298\n",
            "Epoch 28/30\n",
            "540/540 - 8s - 15ms/step - accuracy: 0.9817 - loss: 0.0568 - val_accuracy: 0.9912 - val_loss: 0.0283\n",
            "Epoch 29/30\n",
            "540/540 - 9s - 16ms/step - accuracy: 0.9819 - loss: 0.0573 - val_accuracy: 0.9920 - val_loss: 0.0278\n",
            "Epoch 30/30\n",
            "540/540 - 8s - 15ms/step - accuracy: 0.9819 - loss: 0.0562 - val_accuracy: 0.9920 - val_loss: 0.0272\n"
          ]
        },
        {
          "output_type": "execute_result",
          "data": {
            "text/plain": [
              "<keras.src.callbacks.history.History at 0x7c2cf3017490>"
            ]
          },
          "metadata": {},
          "execution_count": 52
        }
      ]
    },
    {
      "cell_type": "code",
      "source": [
        "#now testing the model\n",
        "test_loss, test_accuracy = model.evaluate(test_data)"
      ],
      "metadata": {
        "colab": {
          "base_uri": "https://localhost:8080/"
        },
        "id": "BQz6D839ByOI",
        "outputId": "3d7805e7-aa2a-4315-bead-3c6fec62d743"
      },
      "execution_count": 53,
      "outputs": [
        {
          "output_type": "stream",
          "name": "stdout",
          "text": [
            "\u001b[1m1/1\u001b[0m \u001b[32m━━━━━━━━━━━━━━━━━━━━\u001b[0m\u001b[37m\u001b[0m \u001b[1m1s\u001b[0m 1s/step - accuracy: 0.9823 - loss: 0.0628\n"
          ]
        }
      ]
    },
    {
      "cell_type": "code",
      "source": [],
      "metadata": {
        "id": "-WVgpFSBLcZg"
      },
      "execution_count": null,
      "outputs": []
    }
  ]
}